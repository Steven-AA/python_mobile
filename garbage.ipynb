{
 "cells": [
  {
   "cell_type": "markdown",
   "metadata": {},
   "source": [
    "# python 课"
   ]
  },
  {
   "cell_type": "markdown",
   "metadata": {},
   "source": [
    "## 作业"
   ]
  },
  {
   "cell_type": "markdown",
   "metadata": {},
   "source": [
    "### 2020-09-29"
   ]
  },
  {
   "cell_type": "code",
   "execution_count": 2,
   "metadata": {},
   "outputs": [
    {
     "name": "stdin",
     "output_type": "stream",
     "text": [
      "1-7: 1\n"
     ]
    },
    {
     "name": "stdout",
     "output_type": "stream",
     "text": [
      "星期一\n"
     ]
    }
   ],
   "source": [
    "s = u\"星期一星期二星期三星期四星期五星期六星期日\"\n",
    "weekid = int(input(\"1-7:\"))\n",
    "pos = (weekid-1)*3\n",
    "print(s[pos:pos+3])"
   ]
  },
  {
   "cell_type": "code",
   "execution_count": 10,
   "metadata": {},
   "outputs": [
    {
     "name": "stdin",
     "output_type": "stream",
     "text": [
      "明文： asdfasdf\n"
     ]
    },
    {
     "name": "stdout",
     "output_type": "stream",
     "text": [
      "密文：dvgidvgi"
     ]
    }
   ],
   "source": [
    "plaincode = input(\"明文：\")\n",
    "key=3\n",
    "d = {chr(ord('a')+i):chr(ord('a')+i+key) for i in range(26)}\n",
    "print(\"密文：\",end='')\n",
    "for i in plaincode:\n",
    "    if i in d:\n",
    "        print(d[i],end='')\n",
    "    else:\n",
    "        print(i,end='')"
   ]
  },
  {
   "cell_type": "code",
   "execution_count": 12,
   "metadata": {},
   "outputs": [
    {
     "name": "stdout",
     "output_type": "stream",
     "text": [
      "  0%[->..........]\n",
      " 10%[*->.........]\n",
      " 20%[**->........]\n",
      " 30%[***->.......]\n",
      " 40%[****->......]\n",
      " 50%[*****->.....]\n",
      " 60%[******->....]\n",
      " 70%[*******->...]\n",
      " 80%[********->..]\n",
      " 90%[*********->.]\n",
      "100%[**********->]\n"
     ]
    }
   ],
   "source": [
    "import time\n",
    "scale = 10\n",
    "for i in range(scale+1):\n",
    "    a = '*'\n",
    "    print(\"{:3.0f}%[{}->{}]\".format((i/scale)*100,'*'*i,'.'*(scale-i)))"
   ]
  },
  {
   "cell_type": "code",
   "execution_count": null,
   "metadata": {},
   "outputs": [],
   "source": []
  }
 ],
 "metadata": {
  "kernelspec": {
   "display_name": "Python 3",
   "language": "python",
   "name": "python3"
  },
  "language_info": {
   "codemirror_mode": {
    "name": "ipython",
    "version": 3
   },
   "file_extension": ".py",
   "mimetype": "text/x-python",
   "name": "python",
   "nbconvert_exporter": "python",
   "pygments_lexer": "ipython3",
   "version": "3.8.3"
  }
 },
 "nbformat": 4,
 "nbformat_minor": 4
}
